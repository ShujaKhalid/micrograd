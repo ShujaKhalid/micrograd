{
 "cells": [
  {
   "cell_type": "code",
   "execution_count": 1,
   "id": "initial_id",
   "metadata": {
    "collapsed": true,
    "ExecuteTime": {
     "end_time": "2024-01-04T16:58:02.449019Z",
     "start_time": "2024-01-04T16:58:02.446435Z"
    }
   },
   "outputs": [],
   "source": [
    "import random\n",
    "\n",
    "class Value:\n",
    "    def __init__(self, value, _children=()):\n",
    "        self.value = value\n",
    "        self.grad = 0\n",
    "        self._backward = lambda: None\n",
    "        self._prev = set(_children)\n",
    "        \n",
    "    def __repr__(self):\n",
    "        return \"value: {} ; grad: {}\".format(self.value, self.grad)\n",
    "    \n",
    "    def __add__(self, other):\n",
    "        other = other if isinstance(other, Value) else Value(other)\n",
    "        out = Value(self.value + other.value, (self, other))\n",
    "        \n",
    "        def _backward():\n",
    "            self.grad += out.grad \n",
    "            other.grad += out.grad \n",
    "        out._backward = _backward\n",
    "        return out\n",
    "    \n",
    "    def __mul__(self, other):\n",
    "        other = other if isinstance(other, Value) else Value(other)\n",
    "        out = Value(self.value * other.value, (self, other))\n",
    "        \n",
    "        def _backward():\n",
    "            self.grad += out.grad\n",
    "            other.grad += out.grad\n",
    "        out._backward = _backward\n",
    "        return out\n",
    "    \n",
    "    def __sub__(self, other):\n",
    "        other = other if isinstance(other, Value) else Value(other)\n",
    "        out = Value(self.value-other.value, (self, other))\n",
    "        \n",
    "        def _backward():\n",
    "            self.grad += out.grad\n",
    "            other.grad += out.grad\n",
    "        out._backward = _backward\n",
    "        return out\n",
    "    \n",
    "    def __pow__(self, p):\n",
    "        assert isinstance(p, (float, int))\n",
    "        out = Value(self.value**p, (self,))\n",
    "        \n",
    "        def _backward():\n",
    "            self.grad += (p * out.grad ** (p-1)) * out.grad\n",
    "        out._backward = _backward\n",
    "        return out\n",
    "    \n",
    "    def __relu__(self):\n",
    "        out = Value(0) if self.value < 0 else Value(self.value)\n",
    "        \n",
    "        def _backward():\n",
    "            self.grad += out.value > 0 * out.grad\n",
    "        out._backward = _backward\n",
    "        return out\n",
    "    \n",
    "    def backward(self):\n",
    "        topo = []\n",
    "        visited = set()\n",
    "        def topological_sort(node):\n",
    "            if node not in visited:\n",
    "                visited.add(node)\n",
    "                for c in node._prev:\n",
    "                    topological_sort(c)\n",
    "                topo.append(node)\n",
    "        topological_sort(self)\n",
    "        print(topo)\n",
    "        # Apply the chain rule:\n",
    "        self.grad = 1\n",
    "        for n in reversed(topo):\n",
    "            n._backward()\n",
    "            \n",
    "    \n",
    "    "
   ]
  },
  {
   "cell_type": "code",
   "execution_count": 2,
   "outputs": [
    {
     "name": "stdout",
     "output_type": "stream",
     "text": [
      "[value: 2 ; grad: 0, value: -1 ; grad: 0, value: 5 ; grad: 0, value: 6 ; grad: 0, value: 216 ; grad: 0, value: 36 ; grad: 0, value: 7776 ; grad: 0, value: 7774 ; grad: 0]\n",
      "value: 5 ; grad: 5\n",
      "value: -1 ; grad: 5\n",
      "value: 6 ; grad: 5\n",
      "value: 7776 ; grad: 1\n"
     ]
    }
   ],
   "source": [
    "a = Value(5)\n",
    "b = Value(-1)\n",
    "c = a - b\n",
    "d = c**2 * c**3\n",
    "e = d - 2\n",
    "\n",
    "def viz():\n",
    "    print(a)\n",
    "    print(b)\n",
    "    print(c)\n",
    "    print(d)\n",
    "\n",
    "e.backward()\n",
    "viz()"
   ],
   "metadata": {
    "collapsed": false,
    "ExecuteTime": {
     "end_time": "2024-01-04T16:58:02.453514Z",
     "start_time": "2024-01-04T16:58:02.450436Z"
    }
   },
   "id": "f85ed4c1a3127b17"
  },
  {
   "cell_type": "code",
   "execution_count": 3,
   "outputs": [],
   "source": [
    "# Create a neuron\n",
    "class Neuron:\n",
    "    def __init__(self, n):\n",
    "        self.n = n\n",
    "        self.w = [Value(random.uniform(-1,1)) for _ in range(self.n)]\n",
    "        self.b = random.uniform(-1,1)\n",
    "        self.val = None\n",
    "    \n",
    "    def __call__(self, inp):\n",
    "        act = sum([i.value * w.value for i,w in zip(inp, self.w)])\n",
    "        out = Value(act).__relu__()\n",
    "        self.val = out\n",
    "        return out\n",
    "        \n",
    "    def __repr__(self):\n",
    "        return \"self.w: {} | self.b: {} | self.val: {}\".format(self.w, self.b, self.val)\n",
    "        \n",
    "# Create a layer\n",
    "# Note: a layer consists of neurons and we are only defining one layer at a time here.\n",
    "class Layer:\n",
    "    def __init__(self, neuron_in_dim, no_of_neurons):\n",
    "        self.no_of_neurons = no_of_neurons\n",
    "        self.layers = [Neuron(neuron_in_dim) for _ in range(no_of_neurons)]\n",
    "    \n",
    "    def __call__(self, x):\n",
    "        out = [n(xi) for n, xi in zip(self.layers, x)]\n",
    "        return out\n",
    "    \n",
    "# Create an MLP\n",
    "# Note: consists of multiple layers, each with a set of neurons\n",
    "class MLP:\n",
    "    def __init__(self, input_dim, neurons_per_layer):\n",
    "        self.input_dim = input_dim\n",
    "        self.neurons_per_layer = neurons_per_layer\n",
    "        self.n_layers = len(self.neurons_per_layer)\n",
    "        self.dims = [input_dim] + neurons_per_layer\n",
    "        self.layers = [Layer(self.dims[i], self.dims[i+1]) for i in range(self.dims)]\n",
    "        \n",
    "    def __call__(self, x):\n",
    "        for layer in self.layers:\n",
    "            x = layer(x)\n",
    "        return x\n",
    "\n"
   ],
   "metadata": {
    "collapsed": false,
    "ExecuteTime": {
     "end_time": "2024-01-04T16:58:02.458882Z",
     "start_time": "2024-01-04T16:58:02.455533Z"
    }
   },
   "id": "ebcd397e663f733c"
  },
  {
   "cell_type": "code",
   "execution_count": 4,
   "outputs": [
    {
     "data": {
      "text/plain": "value: 0 ; grad: 0"
     },
     "execution_count": 4,
     "metadata": {},
     "output_type": "execute_result"
    }
   ],
   "source": [
    "n = 3\n",
    "x = [Value(1), Value(1), Value(1)]\n",
    "Neuron(n)(x)"
   ],
   "metadata": {
    "collapsed": false,
    "ExecuteTime": {
     "end_time": "2024-01-04T16:58:02.461362Z",
     "start_time": "2024-01-04T16:58:02.459001Z"
    }
   },
   "id": "e02bc7c6d34f0880"
  },
  {
   "cell_type": "code",
   "execution_count": 4,
   "outputs": [],
   "source": [],
   "metadata": {
    "collapsed": false,
    "ExecuteTime": {
     "end_time": "2024-01-04T16:58:02.463375Z",
     "start_time": "2024-01-04T16:58:02.461596Z"
    }
   },
   "id": "ef9259f9d029c721"
  },
  {
   "cell_type": "code",
   "execution_count": 4,
   "outputs": [],
   "source": [],
   "metadata": {
    "collapsed": false,
    "ExecuteTime": {
     "end_time": "2024-01-04T16:58:02.465009Z",
     "start_time": "2024-01-04T16:58:02.463136Z"
    }
   },
   "id": "30df69409d156c81"
  }
 ],
 "metadata": {
  "kernelspec": {
   "display_name": "Python 3",
   "language": "python",
   "name": "python3"
  },
  "language_info": {
   "codemirror_mode": {
    "name": "ipython",
    "version": 2
   },
   "file_extension": ".py",
   "mimetype": "text/x-python",
   "name": "python",
   "nbconvert_exporter": "python",
   "pygments_lexer": "ipython2",
   "version": "2.7.6"
  }
 },
 "nbformat": 4,
 "nbformat_minor": 5
}
