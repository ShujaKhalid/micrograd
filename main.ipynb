{
 "cells": [
  {
   "cell_type": "code",
   "execution_count": 8,
   "id": "initial_id",
   "metadata": {
    "collapsed": true,
    "ExecuteTime": {
     "end_time": "2024-01-03T22:47:00.421889Z",
     "start_time": "2024-01-03T22:47:00.413878Z"
    }
   },
   "outputs": [],
   "source": [
    "class Value:\n",
    "    def __init__(self, value, _children=()):\n",
    "        self.value = value\n",
    "        self.grad = 0\n",
    "        self._backward = lambda: None\n",
    "        self._prev = set(_children)\n",
    "        \n",
    "    def __repr__(self):\n",
    "        return \"value: {} ; grad: {}\".format(self.value, self.grad)\n",
    "    \n",
    "    def __add__(self, other):\n",
    "        other = other if isinstance(other, Value) else Value(other)\n",
    "        out = Value(self.value + other.value, (self, other))\n",
    "        \n",
    "        def _backward():\n",
    "            self.grad += out.grad \n",
    "            other.grad += out.grad \n",
    "        out._backward = _backward\n",
    "        return out\n",
    "    \n",
    "    def __mul__(self, other):\n",
    "        other = other if isinstance(other, Value) else Value(other)\n",
    "        out = Value(self.value * other.value, (self, other))\n",
    "        \n",
    "        def _backward():\n",
    "            self.grad += out.grad\n",
    "            other.grad += out.grad\n",
    "        out._backward = _backward\n",
    "        return out\n",
    "    \n",
    "    def __sub__(self, other):\n",
    "        other = other if isinstance(other, Value) else Value(other)\n",
    "        out = Value(self.value-other.value, (self, other))\n",
    "        \n",
    "        def _backward():\n",
    "            self.grad += out.grad\n",
    "            other.grad += out.grad\n",
    "        out._backward = _backward\n",
    "        return out\n",
    "    \n",
    "    def __pow__(self, p):\n",
    "        assert isinstance(p, (float, int))\n",
    "        out = Value(self.value**p, (self,))\n",
    "        \n",
    "        def _backward():\n",
    "            self.grad += (p * out.grad ** (p-1)) * out.grad\n",
    "        out._backward = _backward\n",
    "        return out\n",
    "    \n",
    "    def __relu__(self):\n",
    "        out = 0 if self.data < 0 else self.data\n",
    "        \n",
    "        def _backward():\n",
    "            self.grad += out.data > 0 * out.grad\n",
    "        out._backward = _backward\n",
    "        return out\n",
    "    \n",
    "    def backward(self):\n",
    "        topo = []\n",
    "        visited = set()\n",
    "        def topological_sort(node):\n",
    "            if node not in visited:\n",
    "                visited.add(node)\n",
    "                for c in node._prev:\n",
    "                    topological_sort(c)\n",
    "                topo.append(node)\n",
    "        topological_sort(self)\n",
    "        print(topo)\n",
    "        # Apply the chain rule:\n",
    "        self.grad = 1\n",
    "        for n in reversed(topo):\n",
    "            n._backward()\n",
    "            \n",
    "    \n",
    "    "
   ]
  },
  {
   "cell_type": "code",
   "execution_count": 24,
   "outputs": [
    {
     "name": "stdout",
     "output_type": "stream",
     "text": [
      "[value: -1 ; grad: 0, value: 5 ; grad: 0, value: 6 ; grad: 0, value: 216 ; grad: 0, value: 36 ; grad: 0, value: 7776 ; grad: 0, value: 2 ; grad: 0, value: 7774 ; grad: 0]\n",
      "value: 5 ; grad: 5\n",
      "value: -1 ; grad: 5\n",
      "value: 6 ; grad: 5\n",
      "value: 7776 ; grad: 1\n"
     ]
    }
   ],
   "source": [
    "a = Value(5)\n",
    "b = Value(-1)\n",
    "c = a - b\n",
    "d = c**2 * c**3\n",
    "e = d - 2\n",
    "\n",
    "def viz():\n",
    "    print(a)\n",
    "    print(b)\n",
    "    print(c)\n",
    "    print(d)\n",
    "\n",
    "e.backward()\n",
    "viz()"
   ],
   "metadata": {
    "collapsed": false,
    "ExecuteTime": {
     "end_time": "2024-01-03T22:48:48.785979Z",
     "start_time": "2024-01-03T22:48:48.782286Z"
    }
   },
   "id": "f85ed4c1a3127b17"
  },
  {
   "cell_type": "code",
   "execution_count": 111,
   "outputs": [],
   "source": [],
   "metadata": {
    "collapsed": false,
    "ExecuteTime": {
     "end_time": "2024-01-03T22:43:32.409445Z",
     "start_time": "2024-01-03T22:43:32.399924Z"
    }
   },
   "id": "ebcd397e663f733c"
  },
  {
   "cell_type": "code",
   "execution_count": null,
   "outputs": [],
   "source": [],
   "metadata": {
    "collapsed": false
   },
   "id": "e02bc7c6d34f0880"
  }
 ],
 "metadata": {
  "kernelspec": {
   "display_name": "Python 3",
   "language": "python",
   "name": "python3"
  },
  "language_info": {
   "codemirror_mode": {
    "name": "ipython",
    "version": 2
   },
   "file_extension": ".py",
   "mimetype": "text/x-python",
   "name": "python",
   "nbconvert_exporter": "python",
   "pygments_lexer": "ipython2",
   "version": "2.7.6"
  }
 },
 "nbformat": 4,
 "nbformat_minor": 5
}
