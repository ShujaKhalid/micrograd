{
 "cells": [
  {
   "cell_type": "code",
   "execution_count": 47,
   "id": "initial_id",
   "metadata": {
    "collapsed": true,
    "ExecuteTime": {
     "end_time": "2024-01-03T22:19:52.858004Z",
     "start_time": "2024-01-03T22:19:52.853871Z"
    }
   },
   "outputs": [],
   "source": [
    "class Value:\n",
    "    def __init__(self, value, _children=()):\n",
    "        self.value = value\n",
    "        self.grad = 0\n",
    "        self._backward = lambda: None\n",
    "        self._prev = set(_children)\n",
    "        \n",
    "    def __repr__(self):\n",
    "        return \"value: {} ; grad: {}\".format(self.value, self.grad)\n",
    "    \n",
    "    def __add__(self, other):\n",
    "        other = other if isinstance(other, Value) else Value(other)\n",
    "        out = Value(self.value + other.value, (self, other))\n",
    "        \n",
    "        def _backward():\n",
    "            self.grad += out.grad \n",
    "            other.grad += out.grad \n",
    "        out._backward = _backward\n",
    "        return out\n",
    "    \n",
    "    def __mul__(self, other):\n",
    "        other = other if isinstance(other, Value) else Value(other)\n",
    "        out = Value(self.value * other.value, (self, other))\n",
    "        \n",
    "        def _backward():\n",
    "            self.grad += out.grad\n",
    "            other.grad += out.grad\n",
    "        out._backward = _backward\n",
    "        return out\n",
    "    \n",
    "    def __pow__(self, p):\n",
    "        assert isinstance(p, (float, int))\n",
    "        out = Value(self.value**p, (self))\n",
    "        \n",
    "        def _backward():\n",
    "            self.grad += (p * out.grad ** (p-1)) * out.grad\n",
    "        out._backward = _backward\n",
    "        return out\n",
    "    \n",
    "    def __relu__(self):\n",
    "        out = 0 if self.data < 0 else self.data\n",
    "        \n",
    "        def _backward():\n",
    "            self.grad += out.data > 0 * out.grad\n",
    "        out._backward = _backward\n",
    "        return out\n",
    "    \n",
    "    def backward(self):\n",
    "        topo = []\n",
    "        visited = set()\n",
    "        def topological_sort(node):\n",
    "            if node not in visited:\n",
    "                visited.add(node)\n",
    "                for c in node._prev:\n",
    "                    topological_sort(c)\n",
    "                topo.append(node)\n",
    "        topological_sort(self)\n",
    "        \n",
    "        # Apply the chain rule:\n",
    "        self.grad = 1\n",
    "        for n in reversed(topo):\n",
    "            n._backward()\n",
    "        \n",
    "        print(self)\n",
    "    \n",
    "    \n",
    "    "
   ]
  },
  {
   "cell_type": "code",
   "execution_count": 48,
   "outputs": [
    {
     "data": {
      "text/plain": "value: 3 ; grad: 0"
     },
     "execution_count": 48,
     "metadata": {},
     "output_type": "execute_result"
    }
   ],
   "source": [
    "a = Value(3)\n",
    "a"
   ],
   "metadata": {
    "collapsed": false,
    "ExecuteTime": {
     "end_time": "2024-01-03T22:19:53.316250Z",
     "start_time": "2024-01-03T22:19:53.312076Z"
    }
   },
   "id": "f85ed4c1a3127b17"
  },
  {
   "cell_type": "code",
   "execution_count": 49,
   "outputs": [],
   "source": [
    "b = a * 2"
   ],
   "metadata": {
    "collapsed": false,
    "ExecuteTime": {
     "end_time": "2024-01-03T22:19:53.591117Z",
     "start_time": "2024-01-03T22:19:53.587810Z"
    }
   },
   "id": "6e8a168da4262338"
  },
  {
   "cell_type": "code",
   "execution_count": 50,
   "outputs": [
    {
     "name": "stdout",
     "output_type": "stream",
     "text": [
      "value: 3 ; grad: 1\n"
     ]
    }
   ],
   "source": [
    "a.backward()"
   ],
   "metadata": {
    "collapsed": false,
    "ExecuteTime": {
     "end_time": "2024-01-03T22:19:54.230039Z",
     "start_time": "2024-01-03T22:19:54.226891Z"
    }
   },
   "id": "4ff05a065bd4b842"
  },
  {
   "cell_type": "code",
   "execution_count": 51,
   "outputs": [
    {
     "name": "stdout",
     "output_type": "stream",
     "text": [
      "value: 6 ; grad: 1\n"
     ]
    }
   ],
   "source": [
    "b.backward()"
   ],
   "metadata": {
    "collapsed": false,
    "ExecuteTime": {
     "end_time": "2024-01-03T22:19:54.762750Z",
     "start_time": "2024-01-03T22:19:54.758148Z"
    }
   },
   "id": "9cc377032fe5382e"
  },
  {
   "cell_type": "code",
   "execution_count": null,
   "outputs": [],
   "source": [],
   "metadata": {
    "collapsed": false
   },
   "id": "dc11c85223ea907"
  }
 ],
 "metadata": {
  "kernelspec": {
   "display_name": "Python 3",
   "language": "python",
   "name": "python3"
  },
  "language_info": {
   "codemirror_mode": {
    "name": "ipython",
    "version": 2
   },
   "file_extension": ".py",
   "mimetype": "text/x-python",
   "name": "python",
   "nbconvert_exporter": "python",
   "pygments_lexer": "ipython2",
   "version": "2.7.6"
  }
 },
 "nbformat": 4,
 "nbformat_minor": 5
}
